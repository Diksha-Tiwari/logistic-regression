{
 "cells": [
  {
   "cell_type": "code",
   "execution_count": 1,
   "metadata": {
    "colab": {
     "base_uri": "https://localhost:8080/"
    },
    "id": "9Xd-dBzw71AV",
    "outputId": "e97feb73-56c3-46b3-d348-f216a26c6f34"
   },
   "outputs": [
    {
     "name": "stdout",
     "output_type": "stream",
     "text": [
      "Collecting pyspark\n",
      "  Downloading pyspark-3.2.1.tar.gz (281.4 MB)\n",
      "\u001b[K     |████████████████████████████████| 281.4 MB 35 kB/s \n",
      "\u001b[?25hCollecting py4j==0.10.9.3\n",
      "  Downloading py4j-0.10.9.3-py2.py3-none-any.whl (198 kB)\n",
      "\u001b[K     |████████████████████████████████| 198 kB 51.6 MB/s \n",
      "\u001b[?25hBuilding wheels for collected packages: pyspark\n",
      "  Building wheel for pyspark (setup.py) ... \u001b[?25l\u001b[?25hdone\n",
      "  Created wheel for pyspark: filename=pyspark-3.2.1-py2.py3-none-any.whl size=281853642 sha256=2f7fc4f4b2b5848ff18530e7ec1e8200d56ef8f8118f3d39ccf4cf0e0a73adf4\n",
      "  Stored in directory: /root/.cache/pip/wheels/9f/f5/07/7cd8017084dce4e93e84e92efd1e1d5334db05f2e83bcef74f\n",
      "Successfully built pyspark\n",
      "Installing collected packages: py4j, pyspark\n",
      "Successfully installed py4j-0.10.9.3 pyspark-3.2.1\n"
     ]
    }
   ],
   "source": [
    "!pip install pyspark"
   ]
  },
  {
   "cell_type": "code",
   "execution_count": 2,
   "metadata": {
    "id": "er1ziofp74H9"
   },
   "outputs": [],
   "source": [
    "from pyspark.sql import SparkSession"
   ]
  },
  {
   "cell_type": "code",
   "execution_count": 3,
   "metadata": {
    "id": "1IdbsdBS7_Wo"
   },
   "outputs": [],
   "source": [
    "session = SparkSession.builder.appName(\"MyCode\").getOrCreate()"
   ]
  },
  {
   "cell_type": "code",
   "execution_count": 4,
   "metadata": {
    "id": "-fezxRzj8A3D"
   },
   "outputs": [],
   "source": [
    "data = session.read.csv(\"loan_data.csv\", header = True, inferSchema = True)"
   ]
  },
  {
   "cell_type": "code",
   "execution_count": 5,
   "metadata": {
    "colab": {
     "base_uri": "https://localhost:8080/"
    },
    "id": "LAqNwTc78CGR",
    "outputId": "1fa6913d-e3af-41df-b34c-1154141ea18b"
   },
   "outputs": [
    {
     "name": "stdout",
     "output_type": "stream",
     "text": [
      "+-------------+------------------+--------+-----------+--------------+-----+----+-----------------+---------+----------+--------------+-----------+-------+--------------+\n",
      "|credit_policy|           purpose|int_rate|installment|log_annual_inc|  dti|fico|days_with_cr_line|revol_bal|revol_util|inq_last_6mths|delinq_2yrs|pub_rec|not_fully_paid|\n",
      "+-------------+------------------+--------+-----------+--------------+-----+----+-----------------+---------+----------+--------------+-----------+-------+--------------+\n",
      "|            1|debt_consolidation|  0.1189|      829.1|   11.35040654|19.48| 737|      5639.958333|    28854|      52.1|             0|          0|      0|             0|\n",
      "|            1|       credit_card|  0.1071|     228.22|   11.08214255|14.29| 707|           2760.0|    33623|      76.7|             0|          0|      0|             0|\n",
      "|            1|debt_consolidation|  0.1357|     366.86|   10.37349118|11.63| 682|           4710.0|     3511|      25.6|             1|          0|      0|             0|\n",
      "|            1|debt_consolidation|  0.1008|     162.34|   11.35040654|  8.1| 712|      2699.958333|    33667|      73.2|             1|          0|      0|             0|\n",
      "+-------------+------------------+--------+-----------+--------------+-----+----+-----------------+---------+----------+--------------+-----------+-------+--------------+\n",
      "only showing top 4 rows\n",
      "\n"
     ]
    }
   ],
   "source": [
    "data.show(4)"
   ]
  },
  {
   "cell_type": "code",
   "execution_count": 101,
   "metadata": {
    "colab": {
     "base_uri": "https://localhost:8080/"
    },
    "id": "Gl2Tpv9r8D6B",
    "outputId": "03310604-b80c-4c8b-c1c4-026f78934288"
   },
   "outputs": [
    {
     "data": {
      "text/plain": [
       "['credit_policy',\n",
       " 'purpose',\n",
       " 'int_rate',\n",
       " 'installment',\n",
       " 'log_annual_inc',\n",
       " 'dti',\n",
       " 'fico',\n",
       " 'days_with_cr_line',\n",
       " 'revol_bal',\n",
       " 'revol_util',\n",
       " 'inq_last_6mths',\n",
       " 'delinq_2yrs',\n",
       " 'pub_rec',\n",
       " 'not_fully_paid']"
      ]
     },
     "execution_count": 101,
     "metadata": {},
     "output_type": "execute_result"
    }
   ],
   "source": [
    "data.columns"
   ]
  },
  {
   "cell_type": "code",
   "execution_count": null,
   "metadata": {
    "id": "7M51GRfi8Fjg"
   },
   "outputs": [],
   "source": [
    "from pyspark.ml.feature import VectorAssembler, StringIndexer, OneHotEncoder"
   ]
  },
  {
   "cell_type": "code",
   "execution_count": 141,
   "metadata": {
    "id": "x84BQ-R78Hib"
   },
   "outputs": [],
   "source": [
    "str_index = StringIndexer(inputCols = [\"credit_policy\", \"purpose\", \"int_rate\", \"installment\", \"log_annual_inc\", \"dti\", \"fico\", \"days_with_cr_line\", \"revol_bal\", \"revol_util\", \"inq_last_6mths\", \"delinq_2yrs\", \"pub_rec\", \"not_fully_paid\"], outputCols = [\"newcredit_policy\", \"newpurpose\", \"newint_rate\", \"newinstallment\", \"newlog_annual_inc\", \"newdti\", \"newfico\", \"newdays_with_cr_line\", \"newrevol_bal\", \"newrevol_util\", \"newinq_last_6mths\", \"newdeling_2yrs\", \"newpub_rec\", \"newnot_fully_paid\"], handleInvalid = \"skip\", stringOrderType= \"frequencyDesc\")"
   ]
  },
  {
   "cell_type": "code",
   "execution_count": 142,
   "metadata": {
    "id": "MJs-Ksf58I3c"
   },
   "outputs": [],
   "source": [
    "one_hot = OneHotEncoder(inputCols =[\"newpurpose\"],  outputCols=[\"newpurpose1\"] )"
   ]
  },
  {
   "cell_type": "code",
   "execution_count": 154,
   "metadata": {
    "id": "PpUqQ1Qr8KNm"
   },
   "outputs": [],
   "source": [
    "vector_ass = VectorAssembler(inputCols = [\"newcredit_policy\",\"newpurpose1\",\"newint_rate\", \"newinstallment\", \"newdays_with_cr_line\", \"newrevol_bal\", \"newrevol_util\", \"newinq_last_6mths\", \"newdeling_2yrs\", \"newpub_rec\"], outputCol = \"allfeatures\")"
   ]
  },
  {
   "cell_type": "code",
   "execution_count": 155,
   "metadata": {
    "id": "KuYlMrHj8L5o"
   },
   "outputs": [],
   "source": [
    "from pyspark.ml.classification import LogisticRegression"
   ]
  },
  {
   "cell_type": "code",
   "execution_count": 156,
   "metadata": {
    "id": "ALxEzI1t8NnM"
   },
   "outputs": [],
   "source": [
    "log_reg = LogisticRegression(featuresCol=\"allfeatures\", labelCol = \"newnot_fully_paid\")"
   ]
  },
  {
   "cell_type": "code",
   "execution_count": 157,
   "metadata": {
    "id": "0bdOp3408O3T"
   },
   "outputs": [],
   "source": [
    "from pyspark.ml import Pipeline"
   ]
  },
  {
   "cell_type": "code",
   "execution_count": 158,
   "metadata": {
    "id": "yvuzUbjw8Qe4"
   },
   "outputs": [],
   "source": [
    "mypipeline = Pipeline(stages = [str_index, one_hot, vector_ass, log_reg])"
   ]
  },
  {
   "cell_type": "code",
   "execution_count": 159,
   "metadata": {
    "id": "PGtavDxy8R_k"
   },
   "outputs": [],
   "source": [
    "training, test = data.randomSplit([0.8, 0.2])"
   ]
  },
  {
   "cell_type": "code",
   "execution_count": 160,
   "metadata": {
    "id": "BCr4pj7H8TZb"
   },
   "outputs": [],
   "source": [
    "log_reg_model = mypipeline.fit(training)"
   ]
  },
  {
   "cell_type": "code",
   "execution_count": 161,
   "metadata": {
    "id": "XQdIow558WMG"
   },
   "outputs": [],
   "source": [
    "result = log_reg_model.transform(test)"
   ]
  },
  {
   "cell_type": "code",
   "execution_count": 162,
   "metadata": {
    "colab": {
     "base_uri": "https://localhost:8080/"
    },
    "id": "F1dg4eKs9E4o",
    "outputId": "a1a139f1-28f0-4bd6-eaab-d4106a7541a0"
   },
   "outputs": [
    {
     "name": "stdout",
     "output_type": "stream",
     "text": [
      "+-------------+------------------+--------+-----------+--------------+-----+----+-----------------+---------+----------+--------------+-----------+-------+--------------+----------------+----------+-----------+--------------+-----------------+------+-------+--------------------+------------+-------------+-----------------+--------------+----------+-----------------+-------------+--------------------+--------------------+--------------------+----------+\n",
      "|credit_policy|           purpose|int_rate|installment|log_annual_inc|  dti|fico|days_with_cr_line|revol_bal|revol_util|inq_last_6mths|delinq_2yrs|pub_rec|not_fully_paid|newcredit_policy|newpurpose|newint_rate|newinstallment|newlog_annual_inc|newdti|newfico|newdays_with_cr_line|newrevol_bal|newrevol_util|newinq_last_6mths|newdeling_2yrs|newpub_rec|newnot_fully_paid|  newpurpose1|         allfeatures|       rawPrediction|         probability|prediction|\n",
      "+-------------+------------------+--------+-----------+--------------+-----+----+-----------------+---------+----------+--------------+-----------+-------+--------------+----------------+----------+-----------+--------------+-----------------+------+-------+--------------------+------------+-------------+-----------------+--------------+----------+-----------------+-------------+--------------------+--------------------+--------------------+----------+\n",
      "|            0|         all_other|  0.0743|      93.23|   9.574983486|  0.0| 757|            300.0|        0|       0.0|             0|          0|      0|             1|             1.0|       1.0|       82.0|         667.0|            102.0|   0.0|   19.0|               745.0|         0.0|          0.0|              0.0|           0.0|       0.0|              1.0|(6,[1],[1.0])|(15,[0,2,7,8,9],[...|[1.49876132960674...|[0.81738966022175...|       0.0|\n",
      "|            0|         all_other|  0.1122|     164.23|   11.01862914|14.48| 692|           2969.0|     9442|      51.3|            15|          0|      0|             1|             1.0|       1.0|       72.0|         773.0|             90.0|1548.0|    2.0|              1419.0|      6377.0|        659.0|             13.0|           0.0|       0.0|              1.0|(6,[1],[1.0])|(15,[0,2,7,8,9,10...|[0.47681249329905...|[0.61699490951132...|       0.0|\n",
      "|            0|         all_other|  0.1126|     164.32|   11.21182037|17.94| 717|           4290.0|      260|       7.6|             4|          0|      1|             0|             1.0|       1.0|       30.0|        1660.0|             66.0| 372.0|    8.0|                57.0|       395.0|        296.0|              4.0|           0.0|       1.0|              0.0|(6,[1],[1.0])|[1.0,0.0,1.0,0.0,...|[0.82734760317614...|[0.69579380255057...|       0.0|\n",
      "|            0|         all_other|  0.1287|      67.27|   10.13459927|13.24| 682|           3330.0|     4925|      40.7|             4|          3|      0|             0|             1.0|       1.0|        5.0|         631.0|            132.0|1519.0|    0.0|                17.0|      4820.0|        493.0|              4.0|           3.0|       0.0|              0.0|(6,[1],[1.0])|[1.0,0.0,1.0,0.0,...|[1.26579926995284...|[0.78002280421165...|       0.0|\n",
      "|            0|         all_other|  0.1418|     342.66|    11.2009507| 0.74| 657|      4260.041667|      449|      37.4|             0|          0|      0|             0|             1.0|       1.0|       66.0|         557.0|            281.0|1423.0|   26.0|               298.0|      4630.0|        987.0|              0.0|           0.0|       0.0|              0.0|(6,[1],[1.0])|(15,[0,2,7,8,9,10...|[1.32994242910967...|[0.79083111172719...|       0.0|\n",
      "|            0|         all_other|  0.1482|     138.31|   10.12647109| 3.55| 642|      509.9583333|     2387|      88.4|             3|          0|      0|             0|             1.0|       1.0|       63.0|        1470.0|            117.0|2333.0|   28.0|               833.0|      3177.0|        433.0|              3.0|           0.0|       0.0|              0.0|(6,[1],[1.0])|(15,[0,2,7,8,9,10...|[1.14770003718846...|[0.75909056864248...|       0.0|\n",
      "|            0|         all_other|  0.1565|     139.95|   10.63585545| 9.95| 727|      3480.041667|     2822|      28.2|             9|          0|      0|             1|             1.0|       1.0|       31.0|         734.0|            186.0|2438.0|   13.0|               138.0|       414.0|        239.0|              9.0|           0.0|       0.0|              1.0|(6,[1],[1.0])|(15,[0,2,7,8,9,10...|[0.83898666314469...|[0.69825175263682...|       0.0|\n",
      "|            0|         all_other|    0.16|       87.9|   10.18111929| 5.82| 662|           9180.0|     1436|      65.3|             6|          1|      0|             1|             1.0|       1.0|       22.0|        4019.0|            133.0| 802.0|    9.0|              2283.0|      1780.0|        537.0|              6.0|           1.0|       0.0|              1.0|(6,[1],[1.0])|[1.0,0.0,1.0,0.0,...|[0.90333231849409...|[0.71163381342955...|       0.0|\n",
      "|            0|       credit_card|  0.1039|      48.68|     8.9226583| 4.96| 687|            600.0|     1954|      43.4|             1|          0|      0|             0|             1.0|       2.0|       39.0|        3161.0|            442.0|1883.0|    1.0|              1992.0|        40.0|        771.0|              1.0|           0.0|       0.0|              0.0|(6,[2],[1.0])|(15,[0,3,7,8,9,10...|[1.71798893463684...|[0.84786961703346...|       0.0|\n",
      "|            0|debt_consolidation|  0.1114|      32.81|   10.97934285|14.62| 717|      3330.041667|     5684|      26.2|             4|          0|      0|             0|             1.0|       0.0|        8.0|         978.0|           1007.0|1000.0|    8.0|               292.0|      5163.0|        469.0|              4.0|           0.0|       0.0|              0.0|(6,[0],[1.0])|(15,[0,1,7,8,9,10...|[1.31653467681311...|[0.78860458929184...|       0.0|\n",
      "|            0|debt_consolidation|  0.1253|      602.4|   11.51292546| 3.66| 717|      4079.958333|    12220|      76.8|             5|          0|      0|             1|             1.0|       0.0|        0.0|         619.0|             14.0|1855.0|    8.0|               192.0|      1309.0|        554.0|              5.0|           0.0|       0.0|              1.0|(6,[0],[1.0])|(15,[0,1,8,9,10,1...|[1.32186341325416...|[0.78949156286793...|       0.0|\n",
      "|            0|debt_consolidation|   0.128|     161.27|   10.02127059|10.29| 652|           3180.0|     5070|      72.4|             3|          1|      0|             0|             1.0|       0.0|      107.0|        1642.0|            318.0| 533.0|   24.0|                49.0|      4880.0|         60.0|              3.0|           1.0|       0.0|              0.0|(6,[0],[1.0])|[1.0,1.0,0.0,0.0,...|[1.12693668230025...|[0.75527313170603...|       0.0|\n",
      "|            0|debt_consolidation|  0.1312|     337.52|   12.52815614|20.06| 672|      6989.041667|   275925|      84.8|             0|          1|      0|             0|             1.0|       0.0|      110.0|        2629.0|           1575.0|1142.0|   10.0|              2105.0|      3553.0|        316.0|              0.0|           1.0|       0.0|              0.0|(6,[0],[1.0])|(15,[0,1,7,8,9,10...|[1.44104879940429...|[0.80861701149431...|       0.0|\n",
      "|            0|debt_consolidation|  0.1355|     135.84|     10.858999|10.99| 652|           6990.0|    11587|      54.0|             3|          0|      1|             1|             1.0|       0.0|       48.0|         298.0|             19.0| 933.0|   24.0|               328.0|      1157.0|        515.0|              3.0|           0.0|       1.0|              1.0|(6,[0],[1.0])|[1.0,1.0,0.0,0.0,...|[1.16268892083267...|[0.76182096238608...|       0.0|\n",
      "|            0|debt_consolidation|  0.1357|     339.69|   10.37349118|22.95| 687|      3150.041667|    10624|      62.9|             4|          0|      0|             0|             1.0|       0.0|       15.0|          48.0|             23.0|2179.0|    1.0|               122.0|       940.0|        533.0|              4.0|           0.0|       0.0|              0.0|(6,[0],[1.0])|(15,[0,1,7,8,9,10...|[1.42865121532066...|[0.80669107249458...|       0.0|\n",
      "|            0|debt_consolidation|  0.1375|     170.29|   9.903487553|  0.0| 647|           1230.0|        0|       0.0|             1|          1|      0|             1|             1.0|       0.0|      117.0|         320.0|             29.0|   0.0|   27.0|              1073.0|         0.0|          0.0|              1.0|           1.0|       0.0|              1.0|(6,[0],[1.0])|(15,[0,1,7,8,9,12...|[1.58753128192612...|[0.83026848818678...|       0.0|\n",
      "|            0|debt_consolidation|  0.1379|     170.38|    10.1266311|22.18| 692|      4320.041667|     5040|      45.2|             5|          0|      1|             0|             1.0|       0.0|       23.0|          98.0|             21.0| 746.0|    2.0|               504.0|      4865.0|        772.0|              5.0|           0.0|       1.0|              0.0|(6,[0],[1.0])|[1.0,1.0,0.0,0.0,...|[1.04839995569420...|[0.74046752840837...|       0.0|\n",
      "|            0|debt_consolidation|  0.1442|      412.6|   10.80972795|13.79| 717|      5010.041667|     2976|      96.0|             4|          0|      0|             0|             1.0|       0.0|       28.0|        1043.0|            168.0|  67.0|    8.0|               371.0|      3729.0|        591.0|              4.0|           0.0|       0.0|              0.0|(6,[0],[1.0])|(15,[0,1,7,8,9,10...|[1.27033341560926...|[0.78079981782374...|       0.0|\n",
      "|            0|debt_consolidation|   0.145|     289.14|   10.81977828|16.68| 657|           3360.0|    11783|      94.3|             0|          0|      0|             0|             1.0|       0.0|       68.0|        2377.0|              1.0|1581.0|   26.0|               101.0|      1201.0|        912.0|              0.0|           0.0|       0.0|              0.0|(6,[0],[1.0])|(15,[0,1,7,8,9,10...|[1.26592275375353...|[0.78004399172220...|       0.0|\n",
      "|            0|debt_consolidation|   0.145|     385.52|   11.23848862|20.02| 667|      3780.041667|     7327|      50.9|             6|          0|      1|             1|             1.0|       0.0|       68.0|        2835.0|            104.0|1140.0|    6.0|                56.0|      5764.0|         77.0|              6.0|           0.0|       1.0|              1.0|(6,[0],[1.0])|[1.0,1.0,0.0,0.0,...|[0.56023678011790...|[0.63650732486169...|       0.0|\n",
      "+-------------+------------------+--------+-----------+--------------+-----+----+-----------------+---------+----------+--------------+-----------+-------+--------------+----------------+----------+-----------+--------------+-----------------+------+-------+--------------------+------------+-------------+-----------------+--------------+----------+-----------------+-------------+--------------------+--------------------+--------------------+----------+\n",
      "only showing top 20 rows\n",
      "\n"
     ]
    }
   ],
   "source": [
    "result.show()"
   ]
  },
  {
   "cell_type": "code",
   "execution_count": 163,
   "metadata": {
    "id": "Exn81zdN9Heg"
   },
   "outputs": [],
   "source": [
    "from pyspark.ml.evaluation import BinaryClassificationEvaluator\n",
    "eval = BinaryClassificationEvaluator(rawPredictionCol=\"rawPrediction\", labelCol = \"newnot_fully_paid\")"
   ]
  },
  {
   "cell_type": "code",
   "execution_count": 164,
   "metadata": {
    "colab": {
     "base_uri": "https://localhost:8080/"
    },
    "id": "_Dh5maqF9JjZ",
    "outputId": "b8a827b7-6671-4534-e6d3-3ecd4599d7bb"
   },
   "outputs": [
    {
     "data": {
      "text/plain": [
       "0.6011997913406363"
      ]
     },
     "execution_count": 164,
     "metadata": {},
     "output_type": "execute_result"
    }
   ],
   "source": [
    "eval.evaluate(result)"
   ]
  },
  {
   "cell_type": "code",
   "execution_count": 86,
   "metadata": {
    "id": "nD8bEUpc9LIL"
   },
   "outputs": [],
   "source": []
  }
 ],
 "metadata": {
  "colab": {
   "collapsed_sections": [],
   "name": "PySparkML_Assignment.ipynb",
   "provenance": []
  },
  "kernelspec": {
   "display_name": "Python 3 (ipykernel)",
   "language": "python",
   "name": "python3"
  },
  "language_info": {
   "codemirror_mode": {
    "name": "ipython",
    "version": 3
   },
   "file_extension": ".py",
   "mimetype": "text/x-python",
   "name": "python",
   "nbconvert_exporter": "python",
   "pygments_lexer": "ipython3",
   "version": "3.9.7"
  }
 },
 "nbformat": 4,
 "nbformat_minor": 1
}
